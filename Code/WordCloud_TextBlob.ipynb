{
  "nbformat": 4,
  "nbformat_minor": 0,
  "metadata": {
    "colab": {
      "provenance": []
    },
    "kernelspec": {
      "name": "python3",
      "display_name": "Python 3"
    },
    "language_info": {
      "name": "python"
    }
  },
  "cells": [
    {
      "cell_type": "code",
      "execution_count": 1,
      "metadata": {
        "id": "n0B4-zhXEq_a",
        "colab": {
          "base_uri": "https://localhost:8080/"
        },
        "outputId": "30032711-14ef-4f8c-90da-b4c645655603"
      },
      "outputs": [
        {
          "output_type": "stream",
          "name": "stderr",
          "text": [
            "[nltk_data] Downloading package stopwords to /root/nltk_data...\n",
            "[nltk_data]   Unzipping corpora/stopwords.zip.\n"
          ]
        },
        {
          "output_type": "execute_result",
          "data": {
            "text/plain": [
              "True"
            ]
          },
          "metadata": {},
          "execution_count": 1
        }
      ],
      "source": [
        "# Importing libraries\n",
        "import requests\n",
        "from bs4 import BeautifulSoup\n",
        "import pandas as pd\n",
        "from textblob import TextBlob\n",
        "from nltk.corpus import stopwords\n",
        "import nltk\n",
        "nltk.download('stopwords')"
      ]
    },
    {
      "cell_type": "code",
      "source": [
        "url = 'http://insideairbnb.com/get-the-data/'\n",
        "response = requests.get(url)\n",
        "soup = BeautifulSoup(response.text, 'html.parser')"
      ],
      "metadata": {
        "id": "B-7JrJ26FGUf"
      },
      "execution_count": 2,
      "outputs": []
    },
    {
      "cell_type": "code",
      "source": [
        "# Scraping\n",
        "body = soup.find('body', class_='layout-module--content--2bfc1')\n",
        "div = body.find('div', {\"id\": \"___gatsby\"})\n",
        "file_urls = div.find_all('a')\n",
        "\n",
        "links = [link.get('href') for link in file_urls]\n",
        "\n",
        "listings_list = []\n",
        "reviews_list = []\n",
        "for link in links:\n",
        "    if link != None:\n",
        "        if \"united-states\" in link and \"listings.csv.gz\" in link:\n",
        "            listings_list.append(link)\n",
        "        if \"united-states\" in link and \"reviews.csv.gz\" in link:\n",
        "            reviews_list.append(link)\n"
      ],
      "metadata": {
        "id": "jaSdBfsSFH7u"
      },
      "execution_count": 3,
      "outputs": []
    },
    {
      "cell_type": "code",
      "source": [
        "# Function for calculating sentiment score\n",
        "def analyze_sentiment(text):\n",
        "    try:\n",
        "        blob = TextBlob(text)\n",
        "        sentiment_score = blob.sentiment.polarity\n",
        "        return sentiment_score\n",
        "    except:\n",
        "        sentiment_score = 0\n",
        "        return sentiment_score"
      ],
      "metadata": {
        "id": "gXEMhlLtGtUG"
      },
      "execution_count": 4,
      "outputs": []
    },
    {
      "cell_type": "code",
      "source": [
        "# Calculating sentiment score of each comment\n",
        "big_df = pd.DataFrame()\n",
        "count = len(reviews_list)\n",
        "for i,review in zip(range(count),reviews_list):\n",
        "  reviews_df = pd.read_csv(review)\n",
        "  reviews_df = reviews_df[['listing_id','comments']]\n",
        "  reviews_df = reviews_df.rename(columns={'listing_id':'id'})\n",
        "  reviews_df['comments'] = reviews_df['comments'].replace('[^a-zA-Z\\s]', '', regex=True)\n",
        "  reviews_df['sentiment_score'] = reviews_df['comments'].apply(analyze_sentiment)\n",
        "\n",
        "  big_df = big_df.append(reviews_df)\n",
        "  print(\"Complete\",i,\"of\",count)"
      ],
      "metadata": {
        "colab": {
          "base_uri": "https://localhost:8080/"
        },
        "id": "SWGy3kIiFMDH",
        "outputId": "2fed5e84-84bb-43b9-e0fc-12f75e709de2"
      },
      "execution_count": null,
      "outputs": [
        {
          "metadata": {
            "tags": null
          },
          "name": "stderr",
          "output_type": "stream",
          "text": [
            "<ipython-input-5-32845c9fd6e6>:11: FutureWarning: The frame.append method is deprecated and will be removed from pandas in a future version. Use pandas.concat instead.\n",
            "  big_df = big_df.append(reviews_df)\n"
          ]
        },
        {
          "metadata": {
            "tags": null
          },
          "name": "stdout",
          "output_type": "stream",
          "text": [
            "Complete 0 of 34\n"
          ]
        },
        {
          "metadata": {
            "tags": null
          },
          "name": "stderr",
          "output_type": "stream",
          "text": [
            "<ipython-input-5-32845c9fd6e6>:11: FutureWarning: The frame.append method is deprecated and will be removed from pandas in a future version. Use pandas.concat instead.\n",
            "  big_df = big_df.append(reviews_df)\n"
          ]
        },
        {
          "metadata": {
            "tags": null
          },
          "name": "stdout",
          "output_type": "stream",
          "text": [
            "Complete 1 of 34\n"
          ]
        },
        {
          "metadata": {
            "tags": null
          },
          "name": "stderr",
          "output_type": "stream",
          "text": [
            "<ipython-input-5-32845c9fd6e6>:11: FutureWarning: The frame.append method is deprecated and will be removed from pandas in a future version. Use pandas.concat instead.\n",
            "  big_df = big_df.append(reviews_df)\n"
          ]
        },
        {
          "metadata": {
            "tags": null
          },
          "name": "stdout",
          "output_type": "stream",
          "text": [
            "Complete 2 of 34\n"
          ]
        },
        {
          "metadata": {
            "tags": null
          },
          "name": "stderr",
          "output_type": "stream",
          "text": [
            "<ipython-input-5-32845c9fd6e6>:11: FutureWarning: The frame.append method is deprecated and will be removed from pandas in a future version. Use pandas.concat instead.\n",
            "  big_df = big_df.append(reviews_df)\n"
          ]
        },
        {
          "metadata": {
            "tags": null
          },
          "name": "stdout",
          "output_type": "stream",
          "text": [
            "Complete 3 of 34\n"
          ]
        },
        {
          "metadata": {
            "tags": null
          },
          "name": "stderr",
          "output_type": "stream",
          "text": [
            "<ipython-input-5-32845c9fd6e6>:11: FutureWarning: The frame.append method is deprecated and will be removed from pandas in a future version. Use pandas.concat instead.\n",
            "  big_df = big_df.append(reviews_df)\n"
          ]
        },
        {
          "metadata": {
            "tags": null
          },
          "name": "stdout",
          "output_type": "stream",
          "text": [
            "Complete 4 of 34\n"
          ]
        },
        {
          "metadata": {
            "tags": null
          },
          "name": "stderr",
          "output_type": "stream",
          "text": [
            "<ipython-input-5-32845c9fd6e6>:11: FutureWarning: The frame.append method is deprecated and will be removed from pandas in a future version. Use pandas.concat instead.\n",
            "  big_df = big_df.append(reviews_df)\n"
          ]
        },
        {
          "metadata": {
            "tags": null
          },
          "name": "stdout",
          "output_type": "stream",
          "text": [
            "Complete 5 of 34\n"
          ]
        },
        {
          "metadata": {
            "tags": null
          },
          "name": "stderr",
          "output_type": "stream",
          "text": [
            "<ipython-input-5-32845c9fd6e6>:11: FutureWarning: The frame.append method is deprecated and will be removed from pandas in a future version. Use pandas.concat instead.\n",
            "  big_df = big_df.append(reviews_df)\n"
          ]
        },
        {
          "metadata": {
            "tags": null
          },
          "name": "stdout",
          "output_type": "stream",
          "text": [
            "Complete 6 of 34\n"
          ]
        },
        {
          "output_type": "stream",
          "name": "stderr",
          "text": [
            "<ipython-input-5-32845c9fd6e6>:11: FutureWarning: The frame.append method is deprecated and will be removed from pandas in a future version. Use pandas.concat instead.\n",
            "  big_df = big_df.append(reviews_df)\n"
          ]
        },
        {
          "output_type": "stream",
          "name": "stdout",
          "text": [
            "Complete 7 of 34\n"
          ]
        },
        {
          "output_type": "stream",
          "name": "stderr",
          "text": [
            "<ipython-input-5-32845c9fd6e6>:11: FutureWarning: The frame.append method is deprecated and will be removed from pandas in a future version. Use pandas.concat instead.\n",
            "  big_df = big_df.append(reviews_df)\n"
          ]
        },
        {
          "output_type": "stream",
          "name": "stdout",
          "text": [
            "Complete 8 of 34\n"
          ]
        },
        {
          "output_type": "stream",
          "name": "stderr",
          "text": [
            "<ipython-input-5-32845c9fd6e6>:11: FutureWarning: The frame.append method is deprecated and will be removed from pandas in a future version. Use pandas.concat instead.\n",
            "  big_df = big_df.append(reviews_df)\n"
          ]
        },
        {
          "output_type": "stream",
          "name": "stdout",
          "text": [
            "Complete 9 of 34\n"
          ]
        },
        {
          "output_type": "stream",
          "name": "stderr",
          "text": [
            "<ipython-input-5-32845c9fd6e6>:11: FutureWarning: The frame.append method is deprecated and will be removed from pandas in a future version. Use pandas.concat instead.\n",
            "  big_df = big_df.append(reviews_df)\n"
          ]
        },
        {
          "output_type": "stream",
          "name": "stdout",
          "text": [
            "Complete 10 of 34\n"
          ]
        },
        {
          "output_type": "stream",
          "name": "stderr",
          "text": [
            "<ipython-input-5-32845c9fd6e6>:11: FutureWarning: The frame.append method is deprecated and will be removed from pandas in a future version. Use pandas.concat instead.\n",
            "  big_df = big_df.append(reviews_df)\n"
          ]
        },
        {
          "output_type": "stream",
          "name": "stdout",
          "text": [
            "Complete 11 of 34\n"
          ]
        },
        {
          "output_type": "stream",
          "name": "stderr",
          "text": [
            "<ipython-input-5-32845c9fd6e6>:11: FutureWarning: The frame.append method is deprecated and will be removed from pandas in a future version. Use pandas.concat instead.\n",
            "  big_df = big_df.append(reviews_df)\n"
          ]
        },
        {
          "output_type": "stream",
          "name": "stdout",
          "text": [
            "Complete 12 of 34\n"
          ]
        },
        {
          "output_type": "stream",
          "name": "stderr",
          "text": [
            "<ipython-input-5-32845c9fd6e6>:11: FutureWarning: The frame.append method is deprecated and will be removed from pandas in a future version. Use pandas.concat instead.\n",
            "  big_df = big_df.append(reviews_df)\n"
          ]
        },
        {
          "output_type": "stream",
          "name": "stdout",
          "text": [
            "Complete 13 of 34\n"
          ]
        },
        {
          "output_type": "stream",
          "name": "stderr",
          "text": [
            "<ipython-input-5-32845c9fd6e6>:11: FutureWarning: The frame.append method is deprecated and will be removed from pandas in a future version. Use pandas.concat instead.\n",
            "  big_df = big_df.append(reviews_df)\n"
          ]
        },
        {
          "output_type": "stream",
          "name": "stdout",
          "text": [
            "Complete 14 of 34\n"
          ]
        },
        {
          "output_type": "stream",
          "name": "stderr",
          "text": [
            "<ipython-input-5-32845c9fd6e6>:11: FutureWarning: The frame.append method is deprecated and will be removed from pandas in a future version. Use pandas.concat instead.\n",
            "  big_df = big_df.append(reviews_df)\n"
          ]
        },
        {
          "output_type": "stream",
          "name": "stdout",
          "text": [
            "Complete 15 of 34\n"
          ]
        },
        {
          "output_type": "stream",
          "name": "stderr",
          "text": [
            "<ipython-input-5-32845c9fd6e6>:11: FutureWarning: The frame.append method is deprecated and will be removed from pandas in a future version. Use pandas.concat instead.\n",
            "  big_df = big_df.append(reviews_df)\n"
          ]
        },
        {
          "output_type": "stream",
          "name": "stdout",
          "text": [
            "Complete 16 of 34\n"
          ]
        },
        {
          "output_type": "stream",
          "name": "stderr",
          "text": [
            "<ipython-input-5-32845c9fd6e6>:11: FutureWarning: The frame.append method is deprecated and will be removed from pandas in a future version. Use pandas.concat instead.\n",
            "  big_df = big_df.append(reviews_df)\n"
          ]
        },
        {
          "output_type": "stream",
          "name": "stdout",
          "text": [
            "Complete 17 of 34\n"
          ]
        },
        {
          "output_type": "stream",
          "name": "stderr",
          "text": [
            "<ipython-input-5-32845c9fd6e6>:11: FutureWarning: The frame.append method is deprecated and will be removed from pandas in a future version. Use pandas.concat instead.\n",
            "  big_df = big_df.append(reviews_df)\n"
          ]
        },
        {
          "output_type": "stream",
          "name": "stdout",
          "text": [
            "Complete 18 of 34\n"
          ]
        },
        {
          "output_type": "stream",
          "name": "stderr",
          "text": [
            "<ipython-input-5-32845c9fd6e6>:11: FutureWarning: The frame.append method is deprecated and will be removed from pandas in a future version. Use pandas.concat instead.\n",
            "  big_df = big_df.append(reviews_df)\n"
          ]
        },
        {
          "output_type": "stream",
          "name": "stdout",
          "text": [
            "Complete 19 of 34\n"
          ]
        },
        {
          "output_type": "stream",
          "name": "stderr",
          "text": [
            "<ipython-input-5-32845c9fd6e6>:11: FutureWarning: The frame.append method is deprecated and will be removed from pandas in a future version. Use pandas.concat instead.\n",
            "  big_df = big_df.append(reviews_df)\n"
          ]
        },
        {
          "output_type": "stream",
          "name": "stdout",
          "text": [
            "Complete 20 of 34\n"
          ]
        },
        {
          "output_type": "stream",
          "name": "stderr",
          "text": [
            "<ipython-input-5-32845c9fd6e6>:11: FutureWarning: The frame.append method is deprecated and will be removed from pandas in a future version. Use pandas.concat instead.\n",
            "  big_df = big_df.append(reviews_df)\n"
          ]
        },
        {
          "output_type": "stream",
          "name": "stdout",
          "text": [
            "Complete 21 of 34\n"
          ]
        },
        {
          "output_type": "stream",
          "name": "stderr",
          "text": [
            "<ipython-input-5-32845c9fd6e6>:11: FutureWarning: The frame.append method is deprecated and will be removed from pandas in a future version. Use pandas.concat instead.\n",
            "  big_df = big_df.append(reviews_df)\n"
          ]
        },
        {
          "output_type": "stream",
          "name": "stdout",
          "text": [
            "Complete 22 of 34\n"
          ]
        },
        {
          "output_type": "stream",
          "name": "stderr",
          "text": [
            "<ipython-input-5-32845c9fd6e6>:11: FutureWarning: The frame.append method is deprecated and will be removed from pandas in a future version. Use pandas.concat instead.\n",
            "  big_df = big_df.append(reviews_df)\n"
          ]
        },
        {
          "output_type": "stream",
          "name": "stdout",
          "text": [
            "Complete 23 of 34\n"
          ]
        },
        {
          "output_type": "stream",
          "name": "stderr",
          "text": [
            "<ipython-input-5-32845c9fd6e6>:11: FutureWarning: The frame.append method is deprecated and will be removed from pandas in a future version. Use pandas.concat instead.\n",
            "  big_df = big_df.append(reviews_df)\n"
          ]
        },
        {
          "output_type": "stream",
          "name": "stdout",
          "text": [
            "Complete 24 of 34\n"
          ]
        },
        {
          "output_type": "stream",
          "name": "stderr",
          "text": [
            "<ipython-input-5-32845c9fd6e6>:11: FutureWarning: The frame.append method is deprecated and will be removed from pandas in a future version. Use pandas.concat instead.\n",
            "  big_df = big_df.append(reviews_df)\n"
          ]
        },
        {
          "output_type": "stream",
          "name": "stdout",
          "text": [
            "Complete 25 of 34\n"
          ]
        },
        {
          "output_type": "stream",
          "name": "stderr",
          "text": [
            "<ipython-input-5-32845c9fd6e6>:11: FutureWarning: The frame.append method is deprecated and will be removed from pandas in a future version. Use pandas.concat instead.\n",
            "  big_df = big_df.append(reviews_df)\n"
          ]
        },
        {
          "output_type": "stream",
          "name": "stdout",
          "text": [
            "Complete 26 of 34\n"
          ]
        },
        {
          "output_type": "stream",
          "name": "stderr",
          "text": [
            "<ipython-input-5-32845c9fd6e6>:11: FutureWarning: The frame.append method is deprecated and will be removed from pandas in a future version. Use pandas.concat instead.\n",
            "  big_df = big_df.append(reviews_df)\n"
          ]
        },
        {
          "output_type": "stream",
          "name": "stdout",
          "text": [
            "Complete 27 of 34\n"
          ]
        },
        {
          "output_type": "stream",
          "name": "stderr",
          "text": [
            "<ipython-input-5-32845c9fd6e6>:11: FutureWarning: The frame.append method is deprecated and will be removed from pandas in a future version. Use pandas.concat instead.\n",
            "  big_df = big_df.append(reviews_df)\n"
          ]
        },
        {
          "output_type": "stream",
          "name": "stdout",
          "text": [
            "Complete 28 of 34\n"
          ]
        },
        {
          "output_type": "stream",
          "name": "stderr",
          "text": [
            "<ipython-input-5-32845c9fd6e6>:11: FutureWarning: The frame.append method is deprecated and will be removed from pandas in a future version. Use pandas.concat instead.\n",
            "  big_df = big_df.append(reviews_df)\n"
          ]
        },
        {
          "output_type": "stream",
          "name": "stdout",
          "text": [
            "Complete 29 of 34\n"
          ]
        },
        {
          "output_type": "stream",
          "name": "stderr",
          "text": [
            "<ipython-input-5-32845c9fd6e6>:11: FutureWarning: The frame.append method is deprecated and will be removed from pandas in a future version. Use pandas.concat instead.\n",
            "  big_df = big_df.append(reviews_df)\n"
          ]
        },
        {
          "output_type": "stream",
          "name": "stdout",
          "text": [
            "Complete 30 of 34\n"
          ]
        }
      ]
    },
    {
      "cell_type": "code",
      "source": [
        "# Function for removing sentiment score\n",
        "english_stop_words = stopwords.words('english')\n",
        "def remove_stop_words(review):\n",
        "    if isinstance(review, str):\n",
        "      removed_stop_words = [word for word in review.split() if word.lower() not in english_stop_words]\n",
        "      return removed_stop_words\n",
        "    else:\n",
        "      return"
      ],
      "metadata": {
        "id": "OTo2P7KCObwf"
      },
      "execution_count": null,
      "outputs": []
    },
    {
      "cell_type": "code",
      "source": [
        "# Function for getting the frequency of each word\n",
        "from collections import Counter\n",
        "def word_counter(word_list):\n",
        "  counts = Counter(word_list)\n",
        "  return(counts)"
      ],
      "metadata": {
        "id": "AmjKrMZsOpln"
      },
      "execution_count": null,
      "outputs": []
    },
    {
      "cell_type": "code",
      "source": [
        "# Function for getting the 50 most common words\n",
        "def top_word(word_counter):\n",
        "  return(word_counter.most_common(50))"
      ],
      "metadata": {
        "id": "Hs8cD57JOpeX"
      },
      "execution_count": null,
      "outputs": []
    },
    {
      "cell_type": "code",
      "source": [
        "# Segregating comments into a positive or negative comments on the basis of sentiment score\n",
        "big_df.loc[big_df['sentiment_score'] < 0, 'type_of_comm'] = 'negative'\n",
        "big_df.loc[big_df['sentiment_score'] >= 0, 'type_of_comm'] = 'positive'"
      ],
      "metadata": {
        "id": "mx4r3QytO0ow"
      },
      "execution_count": null,
      "outputs": []
    },
    {
      "cell_type": "code",
      "source": [
        "# Cleaning the comments column\n",
        "big_df['comments'] = big_df['comments'].astype(\"string\")\n",
        "big_df['comments']  = big_df['comments'] .fillna(\" \")"
      ],
      "metadata": {
        "id": "KMntv3VOO0mD"
      },
      "execution_count": null,
      "outputs": []
    },
    {
      "cell_type": "code",
      "source": [
        "id_comment = big_df.groupby(['id','type_of_comm'], as_index=False).agg({'comments': ' '.join})"
      ],
      "metadata": {
        "id": "Y2G-juzWO0jT"
      },
      "execution_count": null,
      "outputs": []
    },
    {
      "cell_type": "code",
      "source": [
        "id_comment[\"word_list\"] = id_comment['comments'].apply(remove_stop_words)"
      ],
      "metadata": {
        "id": "gLpPtnCNOpKa"
      },
      "execution_count": null,
      "outputs": []
    },
    {
      "cell_type": "code",
      "source": [
        "id_comment[\"word_counter\"] = id_comment['word_list'].apply(word_counter)"
      ],
      "metadata": {
        "id": "nTdDvYSHOo6N"
      },
      "execution_count": null,
      "outputs": []
    },
    {
      "cell_type": "code",
      "source": [
        "id_comment[\"top_word\"] = id_comment['word_counter'].apply(top_word)"
      ],
      "metadata": {
        "id": "Iv_lwaLZPL_H"
      },
      "execution_count": null,
      "outputs": []
    },
    {
      "cell_type": "code",
      "source": [
        "df = id_comment[[\"id\",\"top_word\",\"type_of_comm\"]]"
      ],
      "metadata": {
        "id": "7ZZcENjUPL4H"
      },
      "execution_count": null,
      "outputs": []
    },
    {
      "cell_type": "code",
      "source": [
        "df['top_word'] = df['top_word'].astype(\"string\")"
      ],
      "metadata": {
        "colab": {
          "base_uri": "https://localhost:8080/"
        },
        "id": "63NqzV1l7sNu",
        "outputId": "8ecc031c-5dce-4e0a-cfb1-326e8ad24093"
      },
      "execution_count": null,
      "outputs": [
        {
          "output_type": "stream",
          "name": "stderr",
          "text": [
            "<ipython-input-24-9c8c56544ee1>:1: SettingWithCopyWarning: \n",
            "A value is trying to be set on a copy of a slice from a DataFrame.\n",
            "Try using .loc[row_indexer,col_indexer] = value instead\n",
            "\n",
            "See the caveats in the documentation: https://pandas.pydata.org/pandas-docs/stable/user_guide/indexing.html#returning-a-view-versus-a-copy\n",
            "  df['top_word'] = df['top_word'].astype(\"string\")\n"
          ]
        }
      ]
    },
    {
      "cell_type": "code",
      "source": [
        "# Extracting the list from the string\n",
        "df['Column2'] = df['top_word'].apply(lambda x: eval(x))\n",
        "\n",
        "# Creating a new DataFrame with Column 3,4\n",
        "expanded = df['Column2'].explode().apply(pd.Series)\n",
        "\n",
        "result_df = (\n",
        "    pd.concat([df.drop('Column2', axis=1), expanded.rename(columns={0: 'Column3', 1: 'Column4'})], axis=1)\n",
        "    .reset_index(drop=True)\n",
        ")\n"
      ],
      "metadata": {
        "id": "Rgv_3b677hXt"
      },
      "execution_count": null,
      "outputs": []
    },
    {
      "cell_type": "code",
      "source": [
        "# Creating a new DataFrame with the split rows\n",
        "result_df = pd.DataFrame(new_rows).reset_index(drop=True)\n",
        "\n",
        "# Display the resulting DataFrame\n",
        "display(result_df)"
      ],
      "metadata": {
        "id": "iwsn8Ehh7hVa",
        "colab": {
          "base_uri": "https://localhost:8080/",
          "height": 423
        },
        "outputId": "72ced2f6-603b-44c3-c7f1-36cb3fcf032f"
      },
      "execution_count": null,
      "outputs": [
        {
          "output_type": "display_data",
          "data": {
            "text/plain": [
              "                       id                                           top_word  \\\n",
              "0                 1489424  [('cozy', 2), ('place', 2), ('welcoming', 1), ...   \n",
              "1                 1489424  [('cozy', 2), ('place', 2), ('welcoming', 1), ...   \n",
              "2                 1489424  [('cozy', 2), ('place', 2), ('welcoming', 1), ...   \n",
              "3                 1489424  [('cozy', 2), ('place', 2), ('welcoming', 1), ...   \n",
              "4                 1489424  [('cozy', 2), ('place', 2), ('welcoming', 1), ...   \n",
              "...                   ...                                                ...   \n",
              "19313  983307301778877403  [('cutest', 1), ('apartment', 1), ('ever', 1),...   \n",
              "19314  983307301778877403  [('cutest', 1), ('apartment', 1), ('ever', 1),...   \n",
              "19315  983307301778877403  [('cutest', 1), ('apartment', 1), ('ever', 1),...   \n",
              "19316  983307301778877403  [('cutest', 1), ('apartment', 1), ('ever', 1),...   \n",
              "19317  983307301778877403  [('cutest', 1), ('apartment', 1), ('ever', 1),...   \n",
              "\n",
              "      type_of_comm                                            Column2  \\\n",
              "0         negative  [(cozy, 2), (place, 2), (welcoming, 1), (hosts...   \n",
              "1         negative  [(cozy, 2), (place, 2), (welcoming, 1), (hosts...   \n",
              "2         negative  [(cozy, 2), (place, 2), (welcoming, 1), (hosts...   \n",
              "3         negative  [(cozy, 2), (place, 2), (welcoming, 1), (hosts...   \n",
              "4         negative  [(cozy, 2), (place, 2), (welcoming, 1), (hosts...   \n",
              "...            ...                                                ...   \n",
              "19313     positive  [(cutest, 1), (apartment, 1), (ever, 1), (Ever...   \n",
              "19314     positive  [(cutest, 1), (apartment, 1), (ever, 1), (Ever...   \n",
              "19315     positive  [(cutest, 1), (apartment, 1), (ever, 1), (Ever...   \n",
              "19316     positive  [(cutest, 1), (apartment, 1), (ever, 1), (Ever...   \n",
              "19317     positive  [(cutest, 1), (apartment, 1), (ever, 1), (Ever...   \n",
              "\n",
              "             Column3  Column4  \n",
              "0               cozy        2  \n",
              "1              place        2  \n",
              "2          welcoming        1  \n",
              "3              hosts        1  \n",
              "4      accommodating        1  \n",
              "...              ...      ...  \n",
              "19313          Would        1  \n",
              "19314         highly        1  \n",
              "19315      recommend        1  \n",
              "19316         Thanks        1  \n",
              "19317        Antonio        1  \n",
              "\n",
              "[19318 rows x 6 columns]"
            ],
            "text/html": [
              "\n",
              "  <div id=\"df-cc45e8a3-c5a7-4d01-aba1-99ddcc0903fa\" class=\"colab-df-container\">\n",
              "    <div>\n",
              "<style scoped>\n",
              "    .dataframe tbody tr th:only-of-type {\n",
              "        vertical-align: middle;\n",
              "    }\n",
              "\n",
              "    .dataframe tbody tr th {\n",
              "        vertical-align: top;\n",
              "    }\n",
              "\n",
              "    .dataframe thead th {\n",
              "        text-align: right;\n",
              "    }\n",
              "</style>\n",
              "<table border=\"1\" class=\"dataframe\">\n",
              "  <thead>\n",
              "    <tr style=\"text-align: right;\">\n",
              "      <th></th>\n",
              "      <th>id</th>\n",
              "      <th>top_word</th>\n",
              "      <th>type_of_comm</th>\n",
              "      <th>Column2</th>\n",
              "      <th>Column3</th>\n",
              "      <th>Column4</th>\n",
              "    </tr>\n",
              "  </thead>\n",
              "  <tbody>\n",
              "    <tr>\n",
              "      <th>0</th>\n",
              "      <td>1489424</td>\n",
              "      <td>[('cozy', 2), ('place', 2), ('welcoming', 1), ...</td>\n",
              "      <td>negative</td>\n",
              "      <td>[(cozy, 2), (place, 2), (welcoming, 1), (hosts...</td>\n",
              "      <td>cozy</td>\n",
              "      <td>2</td>\n",
              "    </tr>\n",
              "    <tr>\n",
              "      <th>1</th>\n",
              "      <td>1489424</td>\n",
              "      <td>[('cozy', 2), ('place', 2), ('welcoming', 1), ...</td>\n",
              "      <td>negative</td>\n",
              "      <td>[(cozy, 2), (place, 2), (welcoming, 1), (hosts...</td>\n",
              "      <td>place</td>\n",
              "      <td>2</td>\n",
              "    </tr>\n",
              "    <tr>\n",
              "      <th>2</th>\n",
              "      <td>1489424</td>\n",
              "      <td>[('cozy', 2), ('place', 2), ('welcoming', 1), ...</td>\n",
              "      <td>negative</td>\n",
              "      <td>[(cozy, 2), (place, 2), (welcoming, 1), (hosts...</td>\n",
              "      <td>welcoming</td>\n",
              "      <td>1</td>\n",
              "    </tr>\n",
              "    <tr>\n",
              "      <th>3</th>\n",
              "      <td>1489424</td>\n",
              "      <td>[('cozy', 2), ('place', 2), ('welcoming', 1), ...</td>\n",
              "      <td>negative</td>\n",
              "      <td>[(cozy, 2), (place, 2), (welcoming, 1), (hosts...</td>\n",
              "      <td>hosts</td>\n",
              "      <td>1</td>\n",
              "    </tr>\n",
              "    <tr>\n",
              "      <th>4</th>\n",
              "      <td>1489424</td>\n",
              "      <td>[('cozy', 2), ('place', 2), ('welcoming', 1), ...</td>\n",
              "      <td>negative</td>\n",
              "      <td>[(cozy, 2), (place, 2), (welcoming, 1), (hosts...</td>\n",
              "      <td>accommodating</td>\n",
              "      <td>1</td>\n",
              "    </tr>\n",
              "    <tr>\n",
              "      <th>...</th>\n",
              "      <td>...</td>\n",
              "      <td>...</td>\n",
              "      <td>...</td>\n",
              "      <td>...</td>\n",
              "      <td>...</td>\n",
              "      <td>...</td>\n",
              "    </tr>\n",
              "    <tr>\n",
              "      <th>19313</th>\n",
              "      <td>983307301778877403</td>\n",
              "      <td>[('cutest', 1), ('apartment', 1), ('ever', 1),...</td>\n",
              "      <td>positive</td>\n",
              "      <td>[(cutest, 1), (apartment, 1), (ever, 1), (Ever...</td>\n",
              "      <td>Would</td>\n",
              "      <td>1</td>\n",
              "    </tr>\n",
              "    <tr>\n",
              "      <th>19314</th>\n",
              "      <td>983307301778877403</td>\n",
              "      <td>[('cutest', 1), ('apartment', 1), ('ever', 1),...</td>\n",
              "      <td>positive</td>\n",
              "      <td>[(cutest, 1), (apartment, 1), (ever, 1), (Ever...</td>\n",
              "      <td>highly</td>\n",
              "      <td>1</td>\n",
              "    </tr>\n",
              "    <tr>\n",
              "      <th>19315</th>\n",
              "      <td>983307301778877403</td>\n",
              "      <td>[('cutest', 1), ('apartment', 1), ('ever', 1),...</td>\n",
              "      <td>positive</td>\n",
              "      <td>[(cutest, 1), (apartment, 1), (ever, 1), (Ever...</td>\n",
              "      <td>recommend</td>\n",
              "      <td>1</td>\n",
              "    </tr>\n",
              "    <tr>\n",
              "      <th>19316</th>\n",
              "      <td>983307301778877403</td>\n",
              "      <td>[('cutest', 1), ('apartment', 1), ('ever', 1),...</td>\n",
              "      <td>positive</td>\n",
              "      <td>[(cutest, 1), (apartment, 1), (ever, 1), (Ever...</td>\n",
              "      <td>Thanks</td>\n",
              "      <td>1</td>\n",
              "    </tr>\n",
              "    <tr>\n",
              "      <th>19317</th>\n",
              "      <td>983307301778877403</td>\n",
              "      <td>[('cutest', 1), ('apartment', 1), ('ever', 1),...</td>\n",
              "      <td>positive</td>\n",
              "      <td>[(cutest, 1), (apartment, 1), (ever, 1), (Ever...</td>\n",
              "      <td>Antonio</td>\n",
              "      <td>1</td>\n",
              "    </tr>\n",
              "  </tbody>\n",
              "</table>\n",
              "<p>19318 rows × 6 columns</p>\n",
              "</div>\n",
              "    <div class=\"colab-df-buttons\">\n",
              "\n",
              "  <div class=\"colab-df-container\">\n",
              "    <button class=\"colab-df-convert\" onclick=\"convertToInteractive('df-cc45e8a3-c5a7-4d01-aba1-99ddcc0903fa')\"\n",
              "            title=\"Convert this dataframe to an interactive table.\"\n",
              "            style=\"display:none;\">\n",
              "\n",
              "  <svg xmlns=\"http://www.w3.org/2000/svg\" height=\"24px\" viewBox=\"0 -960 960 960\">\n",
              "    <path d=\"M120-120v-720h720v720H120Zm60-500h600v-160H180v160Zm220 220h160v-160H400v160Zm0 220h160v-160H400v160ZM180-400h160v-160H180v160Zm440 0h160v-160H620v160ZM180-180h160v-160H180v160Zm440 0h160v-160H620v160Z\"/>\n",
              "  </svg>\n",
              "    </button>\n",
              "\n",
              "  <style>\n",
              "    .colab-df-container {\n",
              "      display:flex;\n",
              "      gap: 12px;\n",
              "    }\n",
              "\n",
              "    .colab-df-convert {\n",
              "      background-color: #E8F0FE;\n",
              "      border: none;\n",
              "      border-radius: 50%;\n",
              "      cursor: pointer;\n",
              "      display: none;\n",
              "      fill: #1967D2;\n",
              "      height: 32px;\n",
              "      padding: 0 0 0 0;\n",
              "      width: 32px;\n",
              "    }\n",
              "\n",
              "    .colab-df-convert:hover {\n",
              "      background-color: #E2EBFA;\n",
              "      box-shadow: 0px 1px 2px rgba(60, 64, 67, 0.3), 0px 1px 3px 1px rgba(60, 64, 67, 0.15);\n",
              "      fill: #174EA6;\n",
              "    }\n",
              "\n",
              "    .colab-df-buttons div {\n",
              "      margin-bottom: 4px;\n",
              "    }\n",
              "\n",
              "    [theme=dark] .colab-df-convert {\n",
              "      background-color: #3B4455;\n",
              "      fill: #D2E3FC;\n",
              "    }\n",
              "\n",
              "    [theme=dark] .colab-df-convert:hover {\n",
              "      background-color: #434B5C;\n",
              "      box-shadow: 0px 1px 3px 1px rgba(0, 0, 0, 0.15);\n",
              "      filter: drop-shadow(0px 1px 2px rgba(0, 0, 0, 0.3));\n",
              "      fill: #FFFFFF;\n",
              "    }\n",
              "  </style>\n",
              "\n",
              "    <script>\n",
              "      const buttonEl =\n",
              "        document.querySelector('#df-cc45e8a3-c5a7-4d01-aba1-99ddcc0903fa button.colab-df-convert');\n",
              "      buttonEl.style.display =\n",
              "        google.colab.kernel.accessAllowed ? 'block' : 'none';\n",
              "\n",
              "      async function convertToInteractive(key) {\n",
              "        const element = document.querySelector('#df-cc45e8a3-c5a7-4d01-aba1-99ddcc0903fa');\n",
              "        const dataTable =\n",
              "          await google.colab.kernel.invokeFunction('convertToInteractive',\n",
              "                                                    [key], {});\n",
              "        if (!dataTable) return;\n",
              "\n",
              "        const docLinkHtml = 'Like what you see? Visit the ' +\n",
              "          '<a target=\"_blank\" href=https://colab.research.google.com/notebooks/data_table.ipynb>data table notebook</a>'\n",
              "          + ' to learn more about interactive tables.';\n",
              "        element.innerHTML = '';\n",
              "        dataTable['output_type'] = 'display_data';\n",
              "        await google.colab.output.renderOutput(dataTable, element);\n",
              "        const docLink = document.createElement('div');\n",
              "        docLink.innerHTML = docLinkHtml;\n",
              "        element.appendChild(docLink);\n",
              "      }\n",
              "    </script>\n",
              "  </div>\n",
              "\n",
              "\n",
              "<div id=\"df-5e5e1b78-a04d-433c-a65f-6b10604031d5\">\n",
              "  <button class=\"colab-df-quickchart\" onclick=\"quickchart('df-5e5e1b78-a04d-433c-a65f-6b10604031d5')\"\n",
              "            title=\"Suggest charts\"\n",
              "            style=\"display:none;\">\n",
              "\n",
              "<svg xmlns=\"http://www.w3.org/2000/svg\" height=\"24px\"viewBox=\"0 0 24 24\"\n",
              "     width=\"24px\">\n",
              "    <g>\n",
              "        <path d=\"M19 3H5c-1.1 0-2 .9-2 2v14c0 1.1.9 2 2 2h14c1.1 0 2-.9 2-2V5c0-1.1-.9-2-2-2zM9 17H7v-7h2v7zm4 0h-2V7h2v10zm4 0h-2v-4h2v4z\"/>\n",
              "    </g>\n",
              "</svg>\n",
              "  </button>\n",
              "\n",
              "<style>\n",
              "  .colab-df-quickchart {\n",
              "      --bg-color: #E8F0FE;\n",
              "      --fill-color: #1967D2;\n",
              "      --hover-bg-color: #E2EBFA;\n",
              "      --hover-fill-color: #174EA6;\n",
              "      --disabled-fill-color: #AAA;\n",
              "      --disabled-bg-color: #DDD;\n",
              "  }\n",
              "\n",
              "  [theme=dark] .colab-df-quickchart {\n",
              "      --bg-color: #3B4455;\n",
              "      --fill-color: #D2E3FC;\n",
              "      --hover-bg-color: #434B5C;\n",
              "      --hover-fill-color: #FFFFFF;\n",
              "      --disabled-bg-color: #3B4455;\n",
              "      --disabled-fill-color: #666;\n",
              "  }\n",
              "\n",
              "  .colab-df-quickchart {\n",
              "    background-color: var(--bg-color);\n",
              "    border: none;\n",
              "    border-radius: 50%;\n",
              "    cursor: pointer;\n",
              "    display: none;\n",
              "    fill: var(--fill-color);\n",
              "    height: 32px;\n",
              "    padding: 0;\n",
              "    width: 32px;\n",
              "  }\n",
              "\n",
              "  .colab-df-quickchart:hover {\n",
              "    background-color: var(--hover-bg-color);\n",
              "    box-shadow: 0 1px 2px rgba(60, 64, 67, 0.3), 0 1px 3px 1px rgba(60, 64, 67, 0.15);\n",
              "    fill: var(--button-hover-fill-color);\n",
              "  }\n",
              "\n",
              "  .colab-df-quickchart-complete:disabled,\n",
              "  .colab-df-quickchart-complete:disabled:hover {\n",
              "    background-color: var(--disabled-bg-color);\n",
              "    fill: var(--disabled-fill-color);\n",
              "    box-shadow: none;\n",
              "  }\n",
              "\n",
              "  .colab-df-spinner {\n",
              "    border: 2px solid var(--fill-color);\n",
              "    border-color: transparent;\n",
              "    border-bottom-color: var(--fill-color);\n",
              "    animation:\n",
              "      spin 1s steps(1) infinite;\n",
              "  }\n",
              "\n",
              "  @keyframes spin {\n",
              "    0% {\n",
              "      border-color: transparent;\n",
              "      border-bottom-color: var(--fill-color);\n",
              "      border-left-color: var(--fill-color);\n",
              "    }\n",
              "    20% {\n",
              "      border-color: transparent;\n",
              "      border-left-color: var(--fill-color);\n",
              "      border-top-color: var(--fill-color);\n",
              "    }\n",
              "    30% {\n",
              "      border-color: transparent;\n",
              "      border-left-color: var(--fill-color);\n",
              "      border-top-color: var(--fill-color);\n",
              "      border-right-color: var(--fill-color);\n",
              "    }\n",
              "    40% {\n",
              "      border-color: transparent;\n",
              "      border-right-color: var(--fill-color);\n",
              "      border-top-color: var(--fill-color);\n",
              "    }\n",
              "    60% {\n",
              "      border-color: transparent;\n",
              "      border-right-color: var(--fill-color);\n",
              "    }\n",
              "    80% {\n",
              "      border-color: transparent;\n",
              "      border-right-color: var(--fill-color);\n",
              "      border-bottom-color: var(--fill-color);\n",
              "    }\n",
              "    90% {\n",
              "      border-color: transparent;\n",
              "      border-bottom-color: var(--fill-color);\n",
              "    }\n",
              "  }\n",
              "</style>\n",
              "\n",
              "  <script>\n",
              "    async function quickchart(key) {\n",
              "      const quickchartButtonEl =\n",
              "        document.querySelector('#' + key + ' button');\n",
              "      quickchartButtonEl.disabled = true;  // To prevent multiple clicks.\n",
              "      quickchartButtonEl.classList.add('colab-df-spinner');\n",
              "      try {\n",
              "        const charts = await google.colab.kernel.invokeFunction(\n",
              "            'suggestCharts', [key], {});\n",
              "      } catch (error) {\n",
              "        console.error('Error during call to suggestCharts:', error);\n",
              "      }\n",
              "      quickchartButtonEl.classList.remove('colab-df-spinner');\n",
              "      quickchartButtonEl.classList.add('colab-df-quickchart-complete');\n",
              "    }\n",
              "    (() => {\n",
              "      let quickchartButtonEl =\n",
              "        document.querySelector('#df-5e5e1b78-a04d-433c-a65f-6b10604031d5 button');\n",
              "      quickchartButtonEl.style.display =\n",
              "        google.colab.kernel.accessAllowed ? 'block' : 'none';\n",
              "    })();\n",
              "  </script>\n",
              "</div>\n",
              "    </div>\n",
              "  </div>\n"
            ]
          },
          "metadata": {}
        }
      ]
    },
    {
      "cell_type": "code",
      "source": [
        "result_df = result_df[[\"id\",\"type_of_comm\",\"Column3\",\"Column4\"]]\n"
      ],
      "metadata": {
        "id": "ECl5ulQk7hTI"
      },
      "execution_count": null,
      "outputs": []
    },
    {
      "cell_type": "code",
      "source": [
        "# Downloading the final output\n",
        "from google.colab import files\n",
        "result_df.to_csv('word_cloud_textblob.csv')\n",
        "files.download('word_cloud_textblob.csv')"
      ],
      "metadata": {
        "colab": {
          "base_uri": "https://localhost:8080/",
          "height": 17
        },
        "id": "EtJjFCdZ7hRD",
        "outputId": "558c9336-4717-4c3a-ef38-b3c64d1cd844"
      },
      "execution_count": null,
      "outputs": [
        {
          "output_type": "display_data",
          "data": {
            "text/plain": [
              "<IPython.core.display.Javascript object>"
            ],
            "application/javascript": [
              "\n",
              "    async function download(id, filename, size) {\n",
              "      if (!google.colab.kernel.accessAllowed) {\n",
              "        return;\n",
              "      }\n",
              "      const div = document.createElement('div');\n",
              "      const label = document.createElement('label');\n",
              "      label.textContent = `Downloading \"${filename}\": `;\n",
              "      div.appendChild(label);\n",
              "      const progress = document.createElement('progress');\n",
              "      progress.max = size;\n",
              "      div.appendChild(progress);\n",
              "      document.body.appendChild(div);\n",
              "\n",
              "      const buffers = [];\n",
              "      let downloaded = 0;\n",
              "\n",
              "      const channel = await google.colab.kernel.comms.open(id);\n",
              "      // Send a message to notify the kernel that we're ready.\n",
              "      channel.send({})\n",
              "\n",
              "      for await (const message of channel.messages) {\n",
              "        // Send a message to notify the kernel that we're ready.\n",
              "        channel.send({})\n",
              "        if (message.buffers) {\n",
              "          for (const buffer of message.buffers) {\n",
              "            buffers.push(buffer);\n",
              "            downloaded += buffer.byteLength;\n",
              "            progress.value = downloaded;\n",
              "          }\n",
              "        }\n",
              "      }\n",
              "      const blob = new Blob(buffers, {type: 'application/binary'});\n",
              "      const a = document.createElement('a');\n",
              "      a.href = window.URL.createObjectURL(blob);\n",
              "      a.download = filename;\n",
              "      div.appendChild(a);\n",
              "      a.click();\n",
              "      div.remove();\n",
              "    }\n",
              "  "
            ]
          },
          "metadata": {}
        },
        {
          "output_type": "display_data",
          "data": {
            "text/plain": [
              "<IPython.core.display.Javascript object>"
            ],
            "application/javascript": [
              "download(\"download_783b525f-4e31-4e1a-a3cc-d0834ae26f9d\", \"temp_5_to_6.csv\", 31090131)"
            ]
          },
          "metadata": {}
        }
      ]
    }
  ]
}